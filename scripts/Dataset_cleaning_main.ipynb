{
 "cells": [
  {
   "cell_type": "markdown",
   "id": "976dd430-c258-446f-b98a-97c91a4c4832",
   "metadata": {},
   "source": [
    "# Data cleaning - Traffic accident frequency based on weather conditions. "
   ]
  },
  {
   "cell_type": "code",
   "execution_count": 35,
   "id": "a88f6628-4d36-4237-9fd2-062007af1c9c",
   "metadata": {},
   "outputs": [],
   "source": [
    "import pandas as pd\n",
    "import numpy as np\n",
    "import matplotlib.pyplot as plt\n",
    "import seaborn as sns \n",
    "%matplotlib inline"
   ]
  },
  {
   "cell_type": "markdown",
   "id": "05762ceb-9c21-4bc2-8745-46c1dffac538",
   "metadata": {},
   "source": [
    "The first step to data cleaning is gathering your data. The readme files give you all the information and links to the websites where the datasets were obtained from."
   ]
  },
  {
   "cell_type": "code",
   "execution_count": 66,
   "id": "aa9fa7b3-5694-4ea0-8f9c-a1bb3a51f99d",
   "metadata": {},
   "outputs": [],
   "source": [
    "# reading the csv\n",
    "collisions_df = pd.read_csv(\"Motor_Vehicle_Collisions_-_Crashes.csv\")\n",
    "persons_df = pd.read_csv(\"Motor_Vehicle_Collisions_-_Person_20241111.csv\")"
   ]
  },
  {
   "cell_type": "markdown",
   "id": "81ef51fc-5729-41e2-ae78-a3054e1520aa",
   "metadata": {},
   "source": [
    "You can uncheck the columns below as a form of data exploration. The columns below were used in the cleaning process, and added clutter to the main file hence they are commented out."
   ]
  },
  {
   "cell_type": "code",
   "execution_count": 39,
   "id": "f3a11efa-f332-45f1-9a5a-d13396cc8dfd",
   "metadata": {},
   "outputs": [],
   "source": [
    "# collisions_df.head(5)\n",
    "# rows, columns = collisions_df.shape\n",
    "# print(f\"Number of rows: {rows}, Number of columns: {columns}\") Number of rows: 564824, Number of columns: 29"
   ]
  },
  {
   "cell_type": "code",
   "execution_count": 40,
   "id": "39991ece-b604-473e-a7ee-98e358e424fc",
   "metadata": {
    "scrolled": true
   },
   "outputs": [],
   "source": [
    "# persons_df.head(5)\n",
    "# rows, columns = persons_df.shape\n",
    "# print(f\"Number of rows: {rows}, Number of columns: {columns}\") Number of rows: 56532, Number of columns: 21"
   ]
  },
  {
   "cell_type": "markdown",
   "id": "bac41232-771b-4809-b176-0f5b21cd4b93",
   "metadata": {},
   "source": [
    "I filled all missing ages with -1 because I anticipated data loss from the restrictive merge conditions I planned to apply. My goal was to minimize any further data loss, so I assigned -1 to the missing age values. Further manipulation of the \"age\" column will be required in the future, but for now, -1 is used to avoid losing more data than necessary."
   ]
  },
  {
   "cell_type": "code",
   "execution_count": 43,
   "id": "e7b2e44b-020d-4335-9e71-a4c78285f112",
   "metadata": {},
   "outputs": [],
   "source": [
    "persons_df['PERSON_AGE'] = persons_df['PERSON_AGE'].fillna(-1)\n",
    "persons_df['PERSON_AGE'] = persons_df['PERSON_AGE'].astype(int)"
   ]
  },
  {
   "cell_type": "code",
   "execution_count": 96,
   "id": "58e0fdaa-da63-447a-848a-75333d305bc1",
   "metadata": {},
   "outputs": [
    {
     "name": "stdout",
     "output_type": "stream",
     "text": [
      "\n",
      "Null Values in Collisions Data:\n",
      "CRASH DATE                       0\n",
      "CRASH TIME                       0\n",
      "LATITUDE                         0\n",
      "LONGITUDE                        0\n",
      "LOCATION                         0\n",
      "NUMBER OF PERSONS INJURED        0\n",
      "NUMBER OF PERSONS KILLED         0\n",
      "NUMBER OF PEDESTRIANS INJURED    0\n",
      "NUMBER OF PEDESTRIANS KILLED     0\n",
      "NUMBER OF CYCLIST INJURED        0\n",
      "NUMBER OF CYCLIST KILLED         0\n",
      "NUMBER OF MOTORIST INJURED       0\n",
      "NUMBER OF MOTORIST KILLED        0\n",
      "CONTRIBUTING FACTOR VEHICLE 1    0\n",
      "COLLISION_ID                     0\n",
      "VEHICLE TYPE CODE 1              0\n",
      "dtype: int64\n",
      "\n",
      "Data Types in Collisions Data:\n",
      "CRASH DATE                       datetime64[ns]\n",
      "CRASH TIME                               object\n",
      "LATITUDE                                 object\n",
      "LONGITUDE                                object\n",
      "LOCATION                                 object\n",
      "NUMBER OF PERSONS INJURED                 int32\n",
      "NUMBER OF PERSONS KILLED                  int64\n",
      "NUMBER OF PEDESTRIANS INJURED             int64\n",
      "NUMBER OF PEDESTRIANS KILLED              int64\n",
      "NUMBER OF CYCLIST INJURED                 int64\n",
      "NUMBER OF CYCLIST KILLED                  int64\n",
      "NUMBER OF MOTORIST INJURED                int64\n",
      "NUMBER OF MOTORIST KILLED                 int64\n",
      "CONTRIBUTING FACTOR VEHICLE 1            object\n",
      "COLLISION_ID                              int64\n",
      "VEHICLE TYPE CODE 1                      object\n",
      "dtype: object\n"
     ]
    }
   ],
   "source": [
    "print(\"\\nNull Values in Collisions Data:\")\n",
    "print(collisions_df.isnull().sum())\n",
    "print(\"\\nData Types in Collisions Data:\")\n",
    "print(collisions_df.dtypes)"
   ]
  },
  {
   "cell_type": "code",
   "execution_count": 130,
   "id": "c48d6af5-03a1-41ac-9575-ec5107173e6f",
   "metadata": {},
   "outputs": [
    {
     "name": "stdout",
     "output_type": "stream",
     "text": [
      "\n",
      "Null Values in Persons Data:\n",
      "COLLISION_ID    0\n",
      "CRASH DATE      0\n",
      "CRASH TIME      0\n",
      "PERSON_AGE      0\n",
      "PERSON_SEX      0\n",
      "dtype: int64\n",
      "\n",
      "Data Types in Persons Data:\n",
      "COLLISION_ID             int64\n",
      "CRASH DATE      datetime64[ns]\n",
      "CRASH TIME              object\n",
      "PERSON_AGE               int32\n",
      "PERSON_SEX              object\n",
      "dtype: object\n"
     ]
    }
   ],
   "source": [
    "print(\"\\nNull Values in Persons Data:\")\n",
    "print(persons_df.isnull().sum())\n",
    "print(\"\\nData Types in Persons Data:\")\n",
    "print(persons_df.dtypes)"
   ]
  },
  {
   "cell_type": "markdown",
   "id": "58705178-9d09-4bb2-ad77-eed944b430c2",
   "metadata": {},
   "source": [
    "## Collisions Dataset\n",
    "- convert crashdate and crashtime to datetime format in both person and crashes data.\n",
    "- For the crash data, drop the following columns:\n",
    "    - CONTRIBUTING FACTOR VEHICLE (2,3,4,5)\n",
    "    - VEHICLE TYPE CODE (2,3,4,5)\n",
    "    - OFF STREET NAME and CROSS STREE NAME\n",
    "    - NUMBER OF PERSONS INJURED (1)\n",
    "- fill longitude and latitude and with with median since the data run across the entire NY. Median will help avoid issues with extreme values (outliers).\n",
    "- fill borough and zipcode fille with NA "
   ]
  },
  {
   "cell_type": "code",
   "execution_count": 70,
   "id": "63798f59-9406-432f-90e8-846c64298019",
   "metadata": {},
   "outputs": [],
   "source": [
    "collisions_df['CRASH DATE'] = pd.to_datetime(collisions_df['CRASH DATE'])\n",
    "collisions_df['CRASH TIME'] = pd.to_datetime(collisions_df['CRASH TIME'], format='%H:%M').dt.time\n",
    "\n",
    "\n",
    "columns_to_drop = [\n",
    "    'CONTRIBUTING FACTOR VEHICLE 2', 'CONTRIBUTING FACTOR VEHICLE 3', \"BOROUGH\", \"ZIP CODE\", \"ON STREET NAME\",\n",
    "    'CONTRIBUTING FACTOR VEHICLE 4', 'CONTRIBUTING FACTOR VEHICLE 5', \n",
    "    'VEHICLE TYPE CODE 2', 'VEHICLE TYPE CODE 3', 'VEHICLE TYPE CODE 4', 'VEHICLE TYPE CODE 5',\n",
    "    'OFF STREET NAME', 'CROSS STREET NAME'\n",
    "]\n",
    "collisions_df.drop(columns=columns_to_drop, inplace=True)"
   ]
  },
  {
   "cell_type": "code",
   "execution_count": 84,
   "id": "67ac05bd-3a35-4bac-a006-4eb7d843798d",
   "metadata": {},
   "outputs": [],
   "source": [
    "collisions_df = collisions_df[collisions_df['NUMBER OF PERSONS INJURED'].notnull()]"
   ]
  },
  {
   "cell_type": "code",
   "execution_count": 58,
   "id": "a8692e10-bf9c-4c33-acd8-6a456258bdf3",
   "metadata": {},
   "outputs": [],
   "source": [
    "# collisions_df['BOROUGH'] = collisions_df['BOROUGH'].fillna('N/A')\n",
    "# collisions_df['ZIP CODE'] = collisions_df['ZIP CODE'].fillna('N/A')"
   ]
  },
  {
   "cell_type": "code",
   "execution_count": 59,
   "id": "43d21825-2048-46f1-9645-8c06c80f155b",
   "metadata": {},
   "outputs": [],
   "source": [
    "# collisions_df['ON STREET NAME'] = collisions_df['ON STREET NAME'].fillna('N/A')"
   ]
  },
  {
   "cell_type": "code",
   "execution_count": 74,
   "id": "81d166f9-5396-4418-98e9-27053ed9487e",
   "metadata": {},
   "outputs": [],
   "source": [
    "collisions_df['VEHICLE TYPE CODE 1'] = collisions_df['VEHICLE TYPE CODE 1'].fillna('Unknown')"
   ]
  },
  {
   "cell_type": "code",
   "execution_count": 76,
   "id": "c52add01-66c0-4dba-9882-81cf2d393748",
   "metadata": {},
   "outputs": [],
   "source": [
    "# collisions_df['LOCATION'] = collisions_df['LOCATION'].fillna(collisions_df['LOCATION'].median()) This will give you a type error as you can't find the median of the strings in the location column.\n",
    "collisions_df['LATITUDE'] = collisions_df['LATITUDE'].fillna(collisions_df['LATITUDE'].median())\n",
    "collisions_df['LONGITUDE'] = collisions_df['LONGITUDE'].fillna(collisions_df['LONGITUDE'].median())"
   ]
  },
  {
   "cell_type": "code",
   "execution_count": 78,
   "id": "17520eed-bc61-4d8d-bd24-c75892c046e7",
   "metadata": {},
   "outputs": [],
   "source": [
    "def fill_location(row):\n",
    "    if pd.isna(row['LOCATION']) and pd.notna(row['LATITUDE']) and pd.notna(row['LONGITUDE']):\n",
    "        return f\"({row['LATITUDE']}, {row['LONGITUDE']})\"\n",
    "    else:\n",
    "        return row['LOCATION']\n",
    "\n",
    "collisions_df['LOCATION'] = collisions_df.apply(fill_location, axis=1)"
   ]
  },
  {
   "cell_type": "code",
   "execution_count": 92,
   "id": "5ef16329-e82d-48ca-9588-48869c2e0968",
   "metadata": {},
   "outputs": [],
   "source": [
    "collisions_df['NUMBER OF PERSONS INJURED'] = collisions_df['NUMBER OF PERSONS INJURED'].astype(int)\n",
    "collisions_df['LATITUDE']= collisions_df['LATITUDE'].astype(object)\n",
    "collisions_df['LONGITUDE']= collisions_df['LONGITUDE'].astype(object)\n",
    "collisions_df['LOCATION']= collisions_df['LOCATION'].astype(object)"
   ]
  },
  {
   "cell_type": "code",
   "execution_count": 94,
   "id": "e760a742-16e1-478c-a862-8b70824c81ce",
   "metadata": {},
   "outputs": [
    {
     "data": {
      "text/html": [
       "<div>\n",
       "<style scoped>\n",
       "    .dataframe tbody tr th:only-of-type {\n",
       "        vertical-align: middle;\n",
       "    }\n",
       "\n",
       "    .dataframe tbody tr th {\n",
       "        vertical-align: top;\n",
       "    }\n",
       "\n",
       "    .dataframe thead th {\n",
       "        text-align: right;\n",
       "    }\n",
       "</style>\n",
       "<table border=\"1\" class=\"dataframe\">\n",
       "  <thead>\n",
       "    <tr style=\"text-align: right;\">\n",
       "      <th></th>\n",
       "      <th>CRASH DATE</th>\n",
       "      <th>CRASH TIME</th>\n",
       "      <th>LATITUDE</th>\n",
       "      <th>LONGITUDE</th>\n",
       "      <th>LOCATION</th>\n",
       "      <th>NUMBER OF PERSONS INJURED</th>\n",
       "      <th>NUMBER OF PERSONS KILLED</th>\n",
       "      <th>NUMBER OF PEDESTRIANS INJURED</th>\n",
       "      <th>NUMBER OF PEDESTRIANS KILLED</th>\n",
       "      <th>NUMBER OF CYCLIST INJURED</th>\n",
       "      <th>NUMBER OF CYCLIST KILLED</th>\n",
       "      <th>NUMBER OF MOTORIST INJURED</th>\n",
       "      <th>NUMBER OF MOTORIST KILLED</th>\n",
       "      <th>CONTRIBUTING FACTOR VEHICLE 1</th>\n",
       "      <th>COLLISION_ID</th>\n",
       "      <th>VEHICLE TYPE CODE 1</th>\n",
       "    </tr>\n",
       "  </thead>\n",
       "  <tbody>\n",
       "    <tr>\n",
       "      <th>0</th>\n",
       "      <td>2019-01-01</td>\n",
       "      <td>18:41:00</td>\n",
       "      <td>40.715994</td>\n",
       "      <td>-73.92049</td>\n",
       "      <td>(40.715993999999995, -73.92049)</td>\n",
       "      <td>0</td>\n",
       "      <td>0</td>\n",
       "      <td>0</td>\n",
       "      <td>0</td>\n",
       "      <td>0</td>\n",
       "      <td>0</td>\n",
       "      <td>0</td>\n",
       "      <td>0</td>\n",
       "      <td>Following Too Closely</td>\n",
       "      <td>4060800</td>\n",
       "      <td>Sedan</td>\n",
       "    </tr>\n",
       "    <tr>\n",
       "      <th>1</th>\n",
       "      <td>2019-01-01</td>\n",
       "      <td>00:20:00</td>\n",
       "      <td>40.743137</td>\n",
       "      <td>-73.915855</td>\n",
       "      <td>(40.743137, -73.915855)</td>\n",
       "      <td>0</td>\n",
       "      <td>0</td>\n",
       "      <td>0</td>\n",
       "      <td>0</td>\n",
       "      <td>0</td>\n",
       "      <td>0</td>\n",
       "      <td>0</td>\n",
       "      <td>0</td>\n",
       "      <td>Following Too Closely</td>\n",
       "      <td>4060563</td>\n",
       "      <td>Station Wagon/Sport Utility Vehicle</td>\n",
       "    </tr>\n",
       "    <tr>\n",
       "      <th>2</th>\n",
       "      <td>2019-01-01</td>\n",
       "      <td>03:30:00</td>\n",
       "      <td>40.75902</td>\n",
       "      <td>-73.91345</td>\n",
       "      <td>(40.75902, -73.91345)</td>\n",
       "      <td>1</td>\n",
       "      <td>0</td>\n",
       "      <td>0</td>\n",
       "      <td>0</td>\n",
       "      <td>0</td>\n",
       "      <td>0</td>\n",
       "      <td>1</td>\n",
       "      <td>0</td>\n",
       "      <td>Fatigued/Drowsy</td>\n",
       "      <td>4060689</td>\n",
       "      <td>Sedan</td>\n",
       "    </tr>\n",
       "    <tr>\n",
       "      <th>3</th>\n",
       "      <td>2019-01-01</td>\n",
       "      <td>12:00:00</td>\n",
       "      <td>40.878483</td>\n",
       "      <td>-73.86163</td>\n",
       "      <td>(40.878483, -73.86163)</td>\n",
       "      <td>0</td>\n",
       "      <td>0</td>\n",
       "      <td>0</td>\n",
       "      <td>0</td>\n",
       "      <td>0</td>\n",
       "      <td>0</td>\n",
       "      <td>0</td>\n",
       "      <td>0</td>\n",
       "      <td>Unsafe Speed</td>\n",
       "      <td>4060655</td>\n",
       "      <td>Sedan</td>\n",
       "    </tr>\n",
       "    <tr>\n",
       "      <th>4</th>\n",
       "      <td>2019-01-01</td>\n",
       "      <td>02:30:00</td>\n",
       "      <td>40.703434</td>\n",
       "      <td>-73.96035</td>\n",
       "      <td>(40.703434, -73.96035)</td>\n",
       "      <td>1</td>\n",
       "      <td>0</td>\n",
       "      <td>0</td>\n",
       "      <td>0</td>\n",
       "      <td>0</td>\n",
       "      <td>0</td>\n",
       "      <td>1</td>\n",
       "      <td>0</td>\n",
       "      <td>Following Too Closely</td>\n",
       "      <td>4060542</td>\n",
       "      <td>Sedan</td>\n",
       "    </tr>\n",
       "  </tbody>\n",
       "</table>\n",
       "</div>"
      ],
      "text/plain": [
       "  CRASH DATE CRASH TIME   LATITUDE  LONGITUDE  \\\n",
       "0 2019-01-01   18:41:00  40.715994  -73.92049   \n",
       "1 2019-01-01   00:20:00  40.743137 -73.915855   \n",
       "2 2019-01-01   03:30:00   40.75902  -73.91345   \n",
       "3 2019-01-01   12:00:00  40.878483  -73.86163   \n",
       "4 2019-01-01   02:30:00  40.703434  -73.96035   \n",
       "\n",
       "                          LOCATION  NUMBER OF PERSONS INJURED  \\\n",
       "0  (40.715993999999995, -73.92049)                          0   \n",
       "1          (40.743137, -73.915855)                          0   \n",
       "2            (40.75902, -73.91345)                          1   \n",
       "3           (40.878483, -73.86163)                          0   \n",
       "4           (40.703434, -73.96035)                          1   \n",
       "\n",
       "   NUMBER OF PERSONS KILLED  NUMBER OF PEDESTRIANS INJURED  \\\n",
       "0                         0                              0   \n",
       "1                         0                              0   \n",
       "2                         0                              0   \n",
       "3                         0                              0   \n",
       "4                         0                              0   \n",
       "\n",
       "   NUMBER OF PEDESTRIANS KILLED  NUMBER OF CYCLIST INJURED  \\\n",
       "0                             0                          0   \n",
       "1                             0                          0   \n",
       "2                             0                          0   \n",
       "3                             0                          0   \n",
       "4                             0                          0   \n",
       "\n",
       "   NUMBER OF CYCLIST KILLED  NUMBER OF MOTORIST INJURED  \\\n",
       "0                         0                           0   \n",
       "1                         0                           0   \n",
       "2                         0                           1   \n",
       "3                         0                           0   \n",
       "4                         0                           1   \n",
       "\n",
       "   NUMBER OF MOTORIST KILLED CONTRIBUTING FACTOR VEHICLE 1  COLLISION_ID  \\\n",
       "0                          0         Following Too Closely       4060800   \n",
       "1                          0         Following Too Closely       4060563   \n",
       "2                          0               Fatigued/Drowsy       4060689   \n",
       "3                          0                  Unsafe Speed       4060655   \n",
       "4                          0         Following Too Closely       4060542   \n",
       "\n",
       "                   VEHICLE TYPE CODE 1  \n",
       "0                                Sedan  \n",
       "1  Station Wagon/Sport Utility Vehicle  \n",
       "2                                Sedan  \n",
       "3                                Sedan  \n",
       "4                                Sedan  "
      ]
     },
     "execution_count": 94,
     "metadata": {},
     "output_type": "execute_result"
    }
   ],
   "source": [
    "collisions_df.head(5)"
   ]
  },
  {
   "cell_type": "markdown",
   "id": "8fa542ce-5928-442f-ad89-961cacc46fbe",
   "metadata": {},
   "source": [
    "## Persons Dataset\n",
    "- convert crashdate and crashtime to datetime format in both person dataframe.\n",
    "- For the crash data, drop the following columns:\n",
    "    - 'UNIQUE_ID', 'PERSON_ID', \"VEHICLE_ID\",\"EJECTION\",\"POSITION_IN_VEHICLE\",\"SAFETY_EQUIPMENT\",\"PED_LOCATION\",\n",
    "      \"PED_ACTION\",\"COMPLAINT\",\"PED_ROLE\",\"CONTRIBUTING_FACTOR_1\",\"CONTRIBUTING_FACTOR_2\",\"BODILY_INJURY\", \"EMOTIONAL_STATUS\"\n",
    "- remove the negative age columns (you cant use the median because there was 1668 -ve age columns, after changing the empty columns to -1). \n",
    "- fill empty sex columns with \"unknown\""
   ]
  },
  {
   "cell_type": "code",
   "execution_count": 98,
   "id": "7ac1b4ce-3d02-4849-84ad-95f704b28ba6",
   "metadata": {},
   "outputs": [],
   "source": [
    "persons_df['CRASH_DATE'] = pd.to_datetime(persons_df['CRASH_DATE'])\n",
    "persons_df['CRASH_TIME'] = pd.to_datetime(persons_df['CRASH_TIME'], format='%H:%M').dt.time"
   ]
  },
  {
   "cell_type": "code",
   "execution_count": 100,
   "id": "30fb5d92-ef22-43f0-9991-0d6858963a6b",
   "metadata": {},
   "outputs": [],
   "source": [
    "columns_to_drop_persons = [\n",
    "    'UNIQUE_ID', 'PERSON_ID', \"VEHICLE_ID\",\"EJECTION\",\"POSITION_IN_VEHICLE\",\"SAFETY_EQUIPMENT\",\"PED_LOCATION\",\n",
    "    \"PED_ACTION\",\"COMPLAINT\",\"PED_ROLE\",\"CONTRIBUTING_FACTOR_1\",\"CONTRIBUTING_FACTOR_2\",\"BODILY_INJURY\", \"EMOTIONAL_STATUS\", \"PERSON_INJURY\", \"PERSON_TYPE\"\n",
    "]\n",
    "persons_df.drop(columns=columns_to_drop_persons, inplace=True)"
   ]
  },
  {
   "cell_type": "markdown",
   "id": "fb94f598-e910-4e82-9b37-8abc9e469869",
   "metadata": {},
   "source": [
    "### Different approach for the age column. Its alot of rows to drop so I decided to check the distribution. Since its is right skewed, I decided the median will be a better filler for the missing values\n",
    "If left-skewed or right-skewed, fill the empty cells with Median\n",
    "If normal distribution, then fill empty cells with mean.\n",
    "\n",
    "Alternatively, use regression to predict the age (this is too extensive for this project).\n",
    "\n",
    "**NOTE** This is a very dummy down and not appropriate method of determining how to deal with missing data. The steps above come with a lot of bias. This will be noted in the final document. Hence, this document is for training purposes and not to draw statiscal inference. "
   ]
  },
  {
   "cell_type": "code",
   "execution_count": 107,
   "id": "459b5950-5d8a-4a34-aa91-7edf9714c374",
   "metadata": {},
   "outputs": [
    {
     "data": {
      "image/png": "[encoded data removed]",
      "text/plain": [
       "<Figure size 1000x600 with 1 Axes>"
      ]
     },
     "metadata": {},
     "output_type": "display_data"
    }
   ],
   "source": [
    "filtered_ages = persons_df[(persons_df['PERSON_AGE'] >= 0) & (persons_df['PERSON_AGE'] <= 120)]['PERSON_AGE']\n",
    "\n",
    "plt.figure(figsize=(10, 6))\n",
    "plt.hist(filtered_ages, bins=30, edgecolor='black')\n",
    "plt.xlabel('Age')\n",
    "plt.ylabel('Frequency')\n",
    "plt.title('Histogram of Age in Persons Data (Ages 0 to 120)')\n",
    "plt.show()"
   ]
  },
  {
   "cell_type": "code",
   "execution_count": 116,
   "id": "e741bd5e-cc0e-4790-963f-47e7ddc374c8",
   "metadata": {},
   "outputs": [],
   "source": [
    "persons_df['PERSON_AGE'] = persons_df['PERSON_AGE'].fillna(persons_df['PERSON_AGE'].median())\n",
    "persons_df['PERSON_SEX'] = persons_df['PERSON_SEX'].fillna('Unknown')"
   ]
  },
  {
   "cell_type": "code",
   "execution_count": 118,
   "id": "d1feefa9-8fd9-4c40-85f9-dfaf53b694d4",
   "metadata": {},
   "outputs": [],
   "source": [
    "persons_df = persons_df[(persons_df['PERSON_AGE'] >= 0) & (persons_df['PERSON_AGE'] <= 120)]"
   ]
  },
  {
   "cell_type": "code",
   "execution_count": 120,
   "id": "1f81ff18-dcf9-4687-aa10-c942f679ef19",
   "metadata": {},
   "outputs": [],
   "source": [
    "persons_df.rename(columns={'CRASH_DATE': 'CRASH DATE', 'CRASH_TIME': 'CRASH TIME'}, inplace=True)"
   ]
  },
  {
   "cell_type": "code",
   "execution_count": 128,
   "id": "a03e1f85-24b5-44d3-b073-140577f6fb45",
   "metadata": {},
   "outputs": [],
   "source": [
    "persons_df['PERSON_AGE'] = persons_df['PERSON_AGE'].astype(int)"
   ]
  },
  {
   "cell_type": "code",
   "execution_count": 122,
   "id": "3be5b6ea-7317-4bdd-b778-ce5773f028c0",
   "metadata": {},
   "outputs": [
    {
     "data": {
      "text/html": [
       "<div>\n",
       "<style scoped>\n",
       "    .dataframe tbody tr th:only-of-type {\n",
       "        vertical-align: middle;\n",
       "    }\n",
       "\n",
       "    .dataframe tbody tr th {\n",
       "        vertical-align: top;\n",
       "    }\n",
       "\n",
       "    .dataframe thead th {\n",
       "        text-align: right;\n",
       "    }\n",
       "</style>\n",
       "<table border=\"1\" class=\"dataframe\">\n",
       "  <thead>\n",
       "    <tr style=\"text-align: right;\">\n",
       "      <th></th>\n",
       "      <th>COLLISION_ID</th>\n",
       "      <th>CRASH DATE</th>\n",
       "      <th>CRASH TIME</th>\n",
       "      <th>PERSON_AGE</th>\n",
       "      <th>PERSON_SEX</th>\n",
       "    </tr>\n",
       "  </thead>\n",
       "  <tbody>\n",
       "    <tr>\n",
       "      <th>0</th>\n",
       "      <td>4055134</td>\n",
       "      <td>2018-12-31</td>\n",
       "      <td>07:50:00</td>\n",
       "      <td>41.0</td>\n",
       "      <td>F</td>\n",
       "    </tr>\n",
       "    <tr>\n",
       "      <th>1</th>\n",
       "      <td>4055452</td>\n",
       "      <td>2018-12-31</td>\n",
       "      <td>18:00:00</td>\n",
       "      <td>21.0</td>\n",
       "      <td>M</td>\n",
       "    </tr>\n",
       "    <tr>\n",
       "      <th>2</th>\n",
       "      <td>4055454</td>\n",
       "      <td>2018-12-31</td>\n",
       "      <td>17:35:00</td>\n",
       "      <td>17.0</td>\n",
       "      <td>F</td>\n",
       "    </tr>\n",
       "    <tr>\n",
       "      <th>3</th>\n",
       "      <td>4055461</td>\n",
       "      <td>2018-12-31</td>\n",
       "      <td>19:05:00</td>\n",
       "      <td>57.0</td>\n",
       "      <td>M</td>\n",
       "    </tr>\n",
       "    <tr>\n",
       "      <th>4</th>\n",
       "      <td>4055431</td>\n",
       "      <td>2018-12-31</td>\n",
       "      <td>16:48:00</td>\n",
       "      <td>22.0</td>\n",
       "      <td>M</td>\n",
       "    </tr>\n",
       "  </tbody>\n",
       "</table>\n",
       "</div>"
      ],
      "text/plain": [
       "   COLLISION_ID CRASH DATE CRASH TIME  PERSON_AGE PERSON_SEX\n",
       "0       4055134 2018-12-31   07:50:00        41.0          F\n",
       "1       4055452 2018-12-31   18:00:00        21.0          M\n",
       "2       4055454 2018-12-31   17:35:00        17.0          F\n",
       "3       4055461 2018-12-31   19:05:00        57.0          M\n",
       "4       4055431 2018-12-31   16:48:00        22.0          M"
      ]
     },
     "execution_count": 122,
     "metadata": {},
     "output_type": "execute_result"
    }
   ],
   "source": [
    "persons_df.head(5)"
   ]
  },
  {
   "cell_type": "code",
   "execution_count": 126,
   "id": "5cac3bb3-6f1b-43a4-82b0-ef5664c6a676",
   "metadata": {},
   "outputs": [
    {
     "name": "stdout",
     "output_type": "stream",
     "text": [
      "Number of rows: 56511, Number of columns: 5\n"
     ]
    }
   ],
   "source": [
    "# persons_df.head(5)Number of rows: 56532, Number of columns: 21 Total rows in merged DataFrame: 2230\n",
    "rows, columns = persons_df.shape\n",
    "print(f\"Number of rows: {rows}, Number of columns: {columns}\") "
   ]
  },
  {
   "cell_type": "markdown",
   "id": "bc06121d-5057-4641-8e8a-7f39e58a8319",
   "metadata": {},
   "source": [
    "## Merge Dataset\n",
    "Performing an inner join to merge both dataframes.\n",
    "Dont be worried about the drop in the number of rows, its inevitable. There is a lot of mismatch between the datasets so this is the only way to maintain a good quality data. In this context, I will say, less is more.\n",
    "Even if you inner join, crash date and collision ID only, you will end up with the same number of rows."
   ]
  },
  {
   "cell_type": "code",
   "execution_count": 132,
   "id": "94f287ec-c531-479f-b317-4f8c84d18561",
   "metadata": {},
   "outputs": [],
   "source": [
    "df = pd.merge(\n",
    "    collisions_df, persons_df,\n",
    "    how='inner',\n",
    "    left_on=['COLLISION_ID', 'CRASH DATE', 'CRASH TIME'],\n",
    "    right_on=['COLLISION_ID', 'CRASH DATE', 'CRASH TIME']\n",
    ")"
   ]
  },
  {
   "cell_type": "code",
   "execution_count": 134,
   "id": "213e3457-02b9-4d66-8994-15fb4aaa15c1",
   "metadata": {},
   "outputs": [
    {
     "name": "stdout",
     "output_type": "stream",
     "text": [
      "Total rows in merged DataFrame: 2339\n"
     ]
    }
   ],
   "source": [
    "print(f\"Total rows in merged DataFrame: {df.shape[0]}\") "
   ]
  },
  {
   "cell_type": "code",
   "execution_count": 136,
   "id": "90b02d42-1f28-4636-81c6-a36856e9c06b",
   "metadata": {},
   "outputs": [],
   "source": [
    "#rounding teh crash time column but need to convert to datetime64[ns] to use the round function.\n",
    "df['CRASH TIME'] = pd.to_datetime(df['CRASH TIME'], format='%H:%M:%S')\n",
    "df['CRASH TIME'] = df['CRASH TIME'].dt.round('h')\n",
    "df['CRASH TIME'] = df['CRASH TIME'].dt.time"
   ]
  },
  {
   "cell_type": "code",
   "execution_count": 138,
   "id": "852758c2-3697-408e-a0ca-61024133c42a",
   "metadata": {},
   "outputs": [
    {
     "data": {
      "text/html": [
       "<div>\n",
       "<style scoped>\n",
       "    .dataframe tbody tr th:only-of-type {\n",
       "        vertical-align: middle;\n",
       "    }\n",
       "\n",
       "    .dataframe tbody tr th {\n",
       "        vertical-align: top;\n",
       "    }\n",
       "\n",
       "    .dataframe thead th {\n",
       "        text-align: right;\n",
       "    }\n",
       "</style>\n",
       "<table border=\"1\" class=\"dataframe\">\n",
       "  <thead>\n",
       "    <tr style=\"text-align: right;\">\n",
       "      <th></th>\n",
       "      <th>CRASH DATE</th>\n",
       "      <th>CRASH TIME</th>\n",
       "      <th>LATITUDE</th>\n",
       "      <th>LONGITUDE</th>\n",
       "      <th>LOCATION</th>\n",
       "      <th>NUMBER OF PERSONS INJURED</th>\n",
       "      <th>NUMBER OF PERSONS KILLED</th>\n",
       "      <th>NUMBER OF PEDESTRIANS INJURED</th>\n",
       "      <th>NUMBER OF PEDESTRIANS KILLED</th>\n",
       "      <th>NUMBER OF CYCLIST INJURED</th>\n",
       "      <th>NUMBER OF CYCLIST KILLED</th>\n",
       "      <th>NUMBER OF MOTORIST INJURED</th>\n",
       "      <th>NUMBER OF MOTORIST KILLED</th>\n",
       "      <th>CONTRIBUTING FACTOR VEHICLE 1</th>\n",
       "      <th>COLLISION_ID</th>\n",
       "      <th>VEHICLE TYPE CODE 1</th>\n",
       "      <th>PERSON_AGE</th>\n",
       "      <th>PERSON_SEX</th>\n",
       "    </tr>\n",
       "  </thead>\n",
       "  <tbody>\n",
       "    <tr>\n",
       "      <th>0</th>\n",
       "      <td>2019-01-02</td>\n",
       "      <td>16:00:00</td>\n",
       "      <td>40.71058</td>\n",
       "      <td>-74.007385</td>\n",
       "      <td>(40.71058, -74.007385)</td>\n",
       "      <td>1</td>\n",
       "      <td>0</td>\n",
       "      <td>1</td>\n",
       "      <td>0</td>\n",
       "      <td>0</td>\n",
       "      <td>0</td>\n",
       "      <td>0</td>\n",
       "      <td>0</td>\n",
       "      <td>Passing or Lane Usage Improper</td>\n",
       "      <td>4061151</td>\n",
       "      <td>Taxi</td>\n",
       "      <td>60</td>\n",
       "      <td>M</td>\n",
       "    </tr>\n",
       "    <tr>\n",
       "      <th>1</th>\n",
       "      <td>2019-01-03</td>\n",
       "      <td>18:00:00</td>\n",
       "      <td>40.704422</td>\n",
       "      <td>-73.792854</td>\n",
       "      <td>(40.704422, -73.792854)</td>\n",
       "      <td>1</td>\n",
       "      <td>0</td>\n",
       "      <td>1</td>\n",
       "      <td>0</td>\n",
       "      <td>0</td>\n",
       "      <td>0</td>\n",
       "      <td>0</td>\n",
       "      <td>0</td>\n",
       "      <td>Failure to Yield Right-of-Way</td>\n",
       "      <td>4061375</td>\n",
       "      <td>Station Wagon/Sport Utility Vehicle</td>\n",
       "      <td>60</td>\n",
       "      <td>F</td>\n",
       "    </tr>\n",
       "    <tr>\n",
       "      <th>2</th>\n",
       "      <td>2019-01-08</td>\n",
       "      <td>07:00:00</td>\n",
       "      <td>40.652855</td>\n",
       "      <td>-73.945915</td>\n",
       "      <td>(40.652855, -73.945915)</td>\n",
       "      <td>1</td>\n",
       "      <td>0</td>\n",
       "      <td>1</td>\n",
       "      <td>0</td>\n",
       "      <td>0</td>\n",
       "      <td>0</td>\n",
       "      <td>0</td>\n",
       "      <td>0</td>\n",
       "      <td>Backing Unsafely</td>\n",
       "      <td>4063731</td>\n",
       "      <td>Station Wagon/Sport Utility Vehicle</td>\n",
       "      <td>42</td>\n",
       "      <td>F</td>\n",
       "    </tr>\n",
       "    <tr>\n",
       "      <th>3</th>\n",
       "      <td>2019-01-09</td>\n",
       "      <td>12:00:00</td>\n",
       "      <td>40.669857</td>\n",
       "      <td>-73.95051</td>\n",
       "      <td>(40.669857, -73.95051)</td>\n",
       "      <td>0</td>\n",
       "      <td>0</td>\n",
       "      <td>0</td>\n",
       "      <td>0</td>\n",
       "      <td>0</td>\n",
       "      <td>0</td>\n",
       "      <td>0</td>\n",
       "      <td>0</td>\n",
       "      <td>Driver Inattention/Distraction</td>\n",
       "      <td>4066070</td>\n",
       "      <td>Sedan</td>\n",
       "      <td>0</td>\n",
       "      <td>M</td>\n",
       "    </tr>\n",
       "    <tr>\n",
       "      <th>4</th>\n",
       "      <td>2019-01-12</td>\n",
       "      <td>16:00:00</td>\n",
       "      <td>40.602535</td>\n",
       "      <td>-73.99321</td>\n",
       "      <td>(40.602535, -73.99321)</td>\n",
       "      <td>1</td>\n",
       "      <td>0</td>\n",
       "      <td>1</td>\n",
       "      <td>0</td>\n",
       "      <td>0</td>\n",
       "      <td>0</td>\n",
       "      <td>0</td>\n",
       "      <td>0</td>\n",
       "      <td>Following Too Closely</td>\n",
       "      <td>4065635</td>\n",
       "      <td>Pick-up Truck</td>\n",
       "      <td>35</td>\n",
       "      <td>F</td>\n",
       "    </tr>\n",
       "  </tbody>\n",
       "</table>\n",
       "</div>"
      ],
      "text/plain": [
       "  CRASH DATE CRASH TIME   LATITUDE  LONGITUDE                 LOCATION  \\\n",
       "0 2019-01-02   16:00:00   40.71058 -74.007385   (40.71058, -74.007385)   \n",
       "1 2019-01-03   18:00:00  40.704422 -73.792854  (40.704422, -73.792854)   \n",
       "2 2019-01-08   07:00:00  40.652855 -73.945915  (40.652855, -73.945915)   \n",
       "3 2019-01-09   12:00:00  40.669857  -73.95051   (40.669857, -73.95051)   \n",
       "4 2019-01-12   16:00:00  40.602535  -73.99321   (40.602535, -73.99321)   \n",
       "\n",
       "   NUMBER OF PERSONS INJURED  NUMBER OF PERSONS KILLED  \\\n",
       "0                          1                         0   \n",
       "1                          1                         0   \n",
       "2                          1                         0   \n",
       "3                          0                         0   \n",
       "4                          1                         0   \n",
       "\n",
       "   NUMBER OF PEDESTRIANS INJURED  NUMBER OF PEDESTRIANS KILLED  \\\n",
       "0                              1                             0   \n",
       "1                              1                             0   \n",
       "2                              1                             0   \n",
       "3                              0                             0   \n",
       "4                              1                             0   \n",
       "\n",
       "   NUMBER OF CYCLIST INJURED  NUMBER OF CYCLIST KILLED  \\\n",
       "0                          0                         0   \n",
       "1                          0                         0   \n",
       "2                          0                         0   \n",
       "3                          0                         0   \n",
       "4                          0                         0   \n",
       "\n",
       "   NUMBER OF MOTORIST INJURED  NUMBER OF MOTORIST KILLED  \\\n",
       "0                           0                          0   \n",
       "1                           0                          0   \n",
       "2                           0                          0   \n",
       "3                           0                          0   \n",
       "4                           0                          0   \n",
       "\n",
       "    CONTRIBUTING FACTOR VEHICLE 1  COLLISION_ID  \\\n",
       "0  Passing or Lane Usage Improper       4061151   \n",
       "1   Failure to Yield Right-of-Way       4061375   \n",
       "2                Backing Unsafely       4063731   \n",
       "3  Driver Inattention/Distraction       4066070   \n",
       "4           Following Too Closely       4065635   \n",
       "\n",
       "                   VEHICLE TYPE CODE 1  PERSON_AGE PERSON_SEX  \n",
       "0                                 Taxi          60          M  \n",
       "1  Station Wagon/Sport Utility Vehicle          60          F  \n",
       "2  Station Wagon/Sport Utility Vehicle          42          F  \n",
       "3                                Sedan           0          M  \n",
       "4                        Pick-up Truck          35          F  "
      ]
     },
     "execution_count": 138,
     "metadata": {},
     "output_type": "execute_result"
    }
   ],
   "source": [
    "df.head(5)"
   ]
  },
  {
   "cell_type": "markdown",
   "id": "3561bd5e-3965-4435-bc5a-b9fe9baf8398",
   "metadata": {},
   "source": [
    "### Weather Dataset\n",
    "The weather data doesnt require as much cleaning as the other two datasets. The key steps taken here was removal of the first two three rows (you can do this manually) and renaming the temperatures column (you have to do this manually because of the degree sign). "
   ]
  },
  {
   "cell_type": "code",
   "execution_count": 140,
   "id": "8437caa2-5d96-4e6c-b42a-4b142f24f3e4",
   "metadata": {},
   "outputs": [],
   "source": [
    "weather_df = pd.read_csv(\"open-meteo-2018inches.csv\")\n",
    "weather_df = weather_df.iloc[2:]"
   ]
  },
  {
   "cell_type": "code",
   "execution_count": 142,
   "id": "b31f1dde-d4ab-4cd5-a60f-e1f3f177fc3c",
   "metadata": {},
   "outputs": [],
   "source": [
    "new_header = weather_df.iloc[0] \n",
    "weather_df = weather_df[1:] \n",
    "weather_df.columns = new_header "
   ]
  },
  {
   "cell_type": "code",
   "execution_count": 144,
   "id": "cc69b9ad-fb5f-43b8-99bc-4419fdfb6c1c",
   "metadata": {},
   "outputs": [],
   "source": [
    "# weather_df.head(5)"
   ]
  },
  {
   "cell_type": "code",
   "execution_count": 146,
   "id": "15c10f82-04a9-4f51-a0ea-f8a2a609fcd4",
   "metadata": {},
   "outputs": [],
   "source": [
    "weather_df[['date', 'time']] = weather_df['time'].str.split('T', expand=True)"
   ]
  },
  {
   "cell_type": "code",
   "execution_count": 148,
   "id": "68dd283d-d1e3-42e3-a103-bd5fd64739f3",
   "metadata": {},
   "outputs": [],
   "source": [
    "weather_df = weather_df.reset_index(drop=True)\n",
    "weather_df = weather_df.rename_axis(None, axis=1)"
   ]
  },
  {
   "cell_type": "code",
   "execution_count": 150,
   "id": "bf93879e-1e46-4a8e-977e-21e84033efc1",
   "metadata": {},
   "outputs": [],
   "source": [
    "weather_df.rename(columns={\n",
    "    'precipitation (inch)': 'precipitation',\n",
    "    'rain (inch)': 'rain',\n",
    "    'snowfall (inch)': 'snowfall',\n",
    "    'snow_depth (ft)': 'snow_depth'\n",
    "}, inplace=True)"
   ]
  },
  {
   "cell_type": "code",
   "execution_count": 152,
   "id": "58a3932d-8142-4df7-99b9-3ac6356b7834",
   "metadata": {},
   "outputs": [],
   "source": [
    "columns_to_float = ['temperature', 'precipitation', 'rain', 'snowfall', 'snow_depth']\n",
    "for column in columns_to_float:\n",
    "    weather_df[column] = weather_df[column].astype(float)"
   ]
  },
  {
   "cell_type": "code",
   "execution_count": 154,
   "id": "f15764b9-4530-4b90-85ea-4387da35002d",
   "metadata": {},
   "outputs": [],
   "source": [
    "weather_df['date'] = pd.to_datetime(weather_df['date'])\n",
    "weather_df['time'] = pd.to_datetime(weather_df['time'], format='%H:%M').dt.time"
   ]
  },
  {
   "cell_type": "code",
   "execution_count": 156,
   "id": "32f546c0-73bf-4551-92a0-2ca03193efd1",
   "metadata": {},
   "outputs": [
    {
     "data": {
      "text/html": [
       "<div>\n",
       "<style scoped>\n",
       "    .dataframe tbody tr th:only-of-type {\n",
       "        vertical-align: middle;\n",
       "    }\n",
       "\n",
       "    .dataframe tbody tr th {\n",
       "        vertical-align: top;\n",
       "    }\n",
       "\n",
       "    .dataframe thead th {\n",
       "        text-align: right;\n",
       "    }\n",
       "</style>\n",
       "<table border=\"1\" class=\"dataframe\">\n",
       "  <thead>\n",
       "    <tr style=\"text-align: right;\">\n",
       "      <th></th>\n",
       "      <th>time</th>\n",
       "      <th>temperature</th>\n",
       "      <th>precipitation</th>\n",
       "      <th>rain</th>\n",
       "      <th>snowfall</th>\n",
       "      <th>snow_depth</th>\n",
       "      <th>date</th>\n",
       "    </tr>\n",
       "  </thead>\n",
       "  <tbody>\n",
       "    <tr>\n",
       "      <th>0</th>\n",
       "      <td>00:00:00</td>\n",
       "      <td>2.4</td>\n",
       "      <td>0.0</td>\n",
       "      <td>0.0</td>\n",
       "      <td>0.0</td>\n",
       "      <td>0.0</td>\n",
       "      <td>2018-12-31</td>\n",
       "    </tr>\n",
       "    <tr>\n",
       "      <th>1</th>\n",
       "      <td>01:00:00</td>\n",
       "      <td>1.2</td>\n",
       "      <td>0.0</td>\n",
       "      <td>0.0</td>\n",
       "      <td>0.0</td>\n",
       "      <td>0.0</td>\n",
       "      <td>2018-12-31</td>\n",
       "    </tr>\n",
       "    <tr>\n",
       "      <th>2</th>\n",
       "      <td>02:00:00</td>\n",
       "      <td>0.9</td>\n",
       "      <td>0.0</td>\n",
       "      <td>0.0</td>\n",
       "      <td>0.0</td>\n",
       "      <td>0.0</td>\n",
       "      <td>2018-12-31</td>\n",
       "    </tr>\n",
       "    <tr>\n",
       "      <th>3</th>\n",
       "      <td>03:00:00</td>\n",
       "      <td>0.5</td>\n",
       "      <td>0.0</td>\n",
       "      <td>0.0</td>\n",
       "      <td>0.0</td>\n",
       "      <td>0.0</td>\n",
       "      <td>2018-12-31</td>\n",
       "    </tr>\n",
       "    <tr>\n",
       "      <th>4</th>\n",
       "      <td>04:00:00</td>\n",
       "      <td>0.1</td>\n",
       "      <td>0.0</td>\n",
       "      <td>0.0</td>\n",
       "      <td>0.0</td>\n",
       "      <td>0.0</td>\n",
       "      <td>2018-12-31</td>\n",
       "    </tr>\n",
       "  </tbody>\n",
       "</table>\n",
       "</div>"
      ],
      "text/plain": [
       "       time  temperature  precipitation  rain  snowfall  snow_depth       date\n",
       "0  00:00:00          2.4            0.0   0.0       0.0         0.0 2018-12-31\n",
       "1  01:00:00          1.2            0.0   0.0       0.0         0.0 2018-12-31\n",
       "2  02:00:00          0.9            0.0   0.0       0.0         0.0 2018-12-31\n",
       "3  03:00:00          0.5            0.0   0.0       0.0         0.0 2018-12-31\n",
       "4  04:00:00          0.1            0.0   0.0       0.0         0.0 2018-12-31"
      ]
     },
     "execution_count": 156,
     "metadata": {},
     "output_type": "execute_result"
    }
   ],
   "source": [
    "weather_df.head(5)"
   ]
  },
  {
   "cell_type": "markdown",
   "id": "f25f565f-9946-41a5-9fb6-95d306490078",
   "metadata": {},
   "source": [
    "### Merge Weather Data\n",
    "The dimension of the final data reduced even further because we extracted data from 2018 - 2024 (day the extraction was done) with the intention of only using the data from 2019 to 2023, so that we have complete years."
   ]
  },
  {
   "cell_type": "code",
   "execution_count": 158,
   "id": "61c9b47d-3f56-4542-9aa8-ead5eeb86cf5",
   "metadata": {},
   "outputs": [],
   "source": [
    "final_df = pd.merge(\n",
    "    df, weather_df,\n",
    "    how='inner',\n",
    "    left_on=['CRASH DATE', 'CRASH TIME'],\n",
    "    right_on=['date', 'time']\n",
    ")"
   ]
  },
  {
   "cell_type": "code",
   "execution_count": 160,
   "id": "29f32546-fcfe-43f5-b84a-d494afa9d0f9",
   "metadata": {},
   "outputs": [
    {
     "data": {
      "text/html": [
       "<div>\n",
       "<style scoped>\n",
       "    .dataframe tbody tr th:only-of-type {\n",
       "        vertical-align: middle;\n",
       "    }\n",
       "\n",
       "    .dataframe tbody tr th {\n",
       "        vertical-align: top;\n",
       "    }\n",
       "\n",
       "    .dataframe thead th {\n",
       "        text-align: right;\n",
       "    }\n",
       "</style>\n",
       "<table border=\"1\" class=\"dataframe\">\n",
       "  <thead>\n",
       "    <tr style=\"text-align: right;\">\n",
       "      <th></th>\n",
       "      <th>CRASH DATE</th>\n",
       "      <th>CRASH TIME</th>\n",
       "      <th>LATITUDE</th>\n",
       "      <th>LONGITUDE</th>\n",
       "      <th>LOCATION</th>\n",
       "      <th>NUMBER OF PERSONS INJURED</th>\n",
       "      <th>NUMBER OF PERSONS KILLED</th>\n",
       "      <th>NUMBER OF PEDESTRIANS INJURED</th>\n",
       "      <th>NUMBER OF PEDESTRIANS KILLED</th>\n",
       "      <th>NUMBER OF CYCLIST INJURED</th>\n",
       "      <th>...</th>\n",
       "      <th>VEHICLE TYPE CODE 1</th>\n",
       "      <th>PERSON_AGE</th>\n",
       "      <th>PERSON_SEX</th>\n",
       "      <th>time</th>\n",
       "      <th>temperature</th>\n",
       "      <th>precipitation</th>\n",
       "      <th>rain</th>\n",
       "      <th>snowfall</th>\n",
       "      <th>snow_depth</th>\n",
       "      <th>date</th>\n",
       "    </tr>\n",
       "  </thead>\n",
       "  <tbody>\n",
       "    <tr>\n",
       "      <th>0</th>\n",
       "      <td>2019-01-02</td>\n",
       "      <td>16:00:00</td>\n",
       "      <td>40.71058</td>\n",
       "      <td>-74.007385</td>\n",
       "      <td>(40.71058, -74.007385)</td>\n",
       "      <td>1</td>\n",
       "      <td>0</td>\n",
       "      <td>1</td>\n",
       "      <td>0</td>\n",
       "      <td>0</td>\n",
       "      <td>...</td>\n",
       "      <td>Taxi</td>\n",
       "      <td>60</td>\n",
       "      <td>M</td>\n",
       "      <td>16:00:00</td>\n",
       "      <td>2.6</td>\n",
       "      <td>0.0</td>\n",
       "      <td>0.0</td>\n",
       "      <td>0.0</td>\n",
       "      <td>0.0</td>\n",
       "      <td>2019-01-02</td>\n",
       "    </tr>\n",
       "    <tr>\n",
       "      <th>1</th>\n",
       "      <td>2019-01-03</td>\n",
       "      <td>18:00:00</td>\n",
       "      <td>40.704422</td>\n",
       "      <td>-73.792854</td>\n",
       "      <td>(40.704422, -73.792854)</td>\n",
       "      <td>1</td>\n",
       "      <td>0</td>\n",
       "      <td>1</td>\n",
       "      <td>0</td>\n",
       "      <td>0</td>\n",
       "      <td>...</td>\n",
       "      <td>Station Wagon/Sport Utility Vehicle</td>\n",
       "      <td>60</td>\n",
       "      <td>F</td>\n",
       "      <td>18:00:00</td>\n",
       "      <td>6.9</td>\n",
       "      <td>0.0</td>\n",
       "      <td>0.0</td>\n",
       "      <td>0.0</td>\n",
       "      <td>0.0</td>\n",
       "      <td>2019-01-03</td>\n",
       "    </tr>\n",
       "    <tr>\n",
       "      <th>2</th>\n",
       "      <td>2019-01-08</td>\n",
       "      <td>07:00:00</td>\n",
       "      <td>40.652855</td>\n",
       "      <td>-73.945915</td>\n",
       "      <td>(40.652855, -73.945915)</td>\n",
       "      <td>1</td>\n",
       "      <td>0</td>\n",
       "      <td>1</td>\n",
       "      <td>0</td>\n",
       "      <td>0</td>\n",
       "      <td>...</td>\n",
       "      <td>Station Wagon/Sport Utility Vehicle</td>\n",
       "      <td>42</td>\n",
       "      <td>F</td>\n",
       "      <td>07:00:00</td>\n",
       "      <td>0.9</td>\n",
       "      <td>0.0</td>\n",
       "      <td>0.0</td>\n",
       "      <td>0.0</td>\n",
       "      <td>0.0</td>\n",
       "      <td>2019-01-08</td>\n",
       "    </tr>\n",
       "    <tr>\n",
       "      <th>3</th>\n",
       "      <td>2019-01-09</td>\n",
       "      <td>12:00:00</td>\n",
       "      <td>40.669857</td>\n",
       "      <td>-73.95051</td>\n",
       "      <td>(40.669857, -73.95051)</td>\n",
       "      <td>0</td>\n",
       "      <td>0</td>\n",
       "      <td>0</td>\n",
       "      <td>0</td>\n",
       "      <td>0</td>\n",
       "      <td>...</td>\n",
       "      <td>Sedan</td>\n",
       "      <td>0</td>\n",
       "      <td>M</td>\n",
       "      <td>12:00:00</td>\n",
       "      <td>4.2</td>\n",
       "      <td>0.0</td>\n",
       "      <td>0.0</td>\n",
       "      <td>0.0</td>\n",
       "      <td>0.0</td>\n",
       "      <td>2019-01-09</td>\n",
       "    </tr>\n",
       "    <tr>\n",
       "      <th>4</th>\n",
       "      <td>2019-01-12</td>\n",
       "      <td>16:00:00</td>\n",
       "      <td>40.602535</td>\n",
       "      <td>-73.99321</td>\n",
       "      <td>(40.602535, -73.99321)</td>\n",
       "      <td>1</td>\n",
       "      <td>0</td>\n",
       "      <td>1</td>\n",
       "      <td>0</td>\n",
       "      <td>0</td>\n",
       "      <td>...</td>\n",
       "      <td>Pick-up Truck</td>\n",
       "      <td>35</td>\n",
       "      <td>F</td>\n",
       "      <td>16:00:00</td>\n",
       "      <td>-1.8</td>\n",
       "      <td>0.0</td>\n",
       "      <td>0.0</td>\n",
       "      <td>0.0</td>\n",
       "      <td>0.0</td>\n",
       "      <td>2019-01-12</td>\n",
       "    </tr>\n",
       "  </tbody>\n",
       "</table>\n",
       "<p>5 rows × 25 columns</p>\n",
       "</div>"
      ],
      "text/plain": [
       "  CRASH DATE CRASH TIME   LATITUDE  LONGITUDE                 LOCATION  \\\n",
       "0 2019-01-02   16:00:00   40.71058 -74.007385   (40.71058, -74.007385)   \n",
       "1 2019-01-03   18:00:00  40.704422 -73.792854  (40.704422, -73.792854)   \n",
       "2 2019-01-08   07:00:00  40.652855 -73.945915  (40.652855, -73.945915)   \n",
       "3 2019-01-09   12:00:00  40.669857  -73.95051   (40.669857, -73.95051)   \n",
       "4 2019-01-12   16:00:00  40.602535  -73.99321   (40.602535, -73.99321)   \n",
       "\n",
       "   NUMBER OF PERSONS INJURED  NUMBER OF PERSONS KILLED  \\\n",
       "0                          1                         0   \n",
       "1                          1                         0   \n",
       "2                          1                         0   \n",
       "3                          0                         0   \n",
       "4                          1                         0   \n",
       "\n",
       "   NUMBER OF PEDESTRIANS INJURED  NUMBER OF PEDESTRIANS KILLED  \\\n",
       "0                              1                             0   \n",
       "1                              1                             0   \n",
       "2                              1                             0   \n",
       "3                              0                             0   \n",
       "4                              1                             0   \n",
       "\n",
       "   NUMBER OF CYCLIST INJURED  ...                  VEHICLE TYPE CODE 1  \\\n",
       "0                          0  ...                                 Taxi   \n",
       "1                          0  ...  Station Wagon/Sport Utility Vehicle   \n",
       "2                          0  ...  Station Wagon/Sport Utility Vehicle   \n",
       "3                          0  ...                                Sedan   \n",
       "4                          0  ...                        Pick-up Truck   \n",
       "\n",
       "   PERSON_AGE  PERSON_SEX      time  temperature precipitation  rain snowfall  \\\n",
       "0          60           M  16:00:00          2.6           0.0   0.0      0.0   \n",
       "1          60           F  18:00:00          6.9           0.0   0.0      0.0   \n",
       "2          42           F  07:00:00          0.9           0.0   0.0      0.0   \n",
       "3           0           M  12:00:00          4.2           0.0   0.0      0.0   \n",
       "4          35           F  16:00:00         -1.8           0.0   0.0      0.0   \n",
       "\n",
       "  snow_depth       date  \n",
       "0        0.0 2019-01-02  \n",
       "1        0.0 2019-01-03  \n",
       "2        0.0 2019-01-08  \n",
       "3        0.0 2019-01-09  \n",
       "4        0.0 2019-01-12  \n",
       "\n",
       "[5 rows x 25 columns]"
      ]
     },
     "execution_count": 160,
     "metadata": {},
     "output_type": "execute_result"
    }
   ],
   "source": [
    "final_df.head(5)"
   ]
  },
  {
   "cell_type": "code",
   "execution_count": 162,
   "id": "ee50c80d-56f8-46c9-8e93-bf1967219465",
   "metadata": {},
   "outputs": [],
   "source": [
    "final_df.to_csv(\"main_dataset.csv\", header=True)"
   ]
  },
  {
   "cell_type": "markdown",
   "id": "4a3e9bac-f361-49bf-8421-de6d90ffb6f1",
   "metadata": {},
   "source": [
    "## DEBUGGING\n",
    "\n",
    "Enter any debugging code."
   ]
  },
  {
   "cell_type": "code",
   "execution_count": 95,
   "id": "2c1d8a70-8ed5-4a14-a913-df3410431d03",
   "metadata": {},
   "outputs": [],
   "source": [
    "# print(\"Unique times in merged_df:\", final_df['CRASH TIME'].unique())\n",
    "# print(\"Unique times in weather_df:\", weather_df['time'].unique())"
   ]
  },
  {
   "cell_type": "code",
   "execution_count": 96,
   "id": "c3829993-dd02-45aa-af9e-676839e920ce",
   "metadata": {},
   "outputs": [],
   "source": [
    "# print(\"\\nNull Values in Persons Data:\")\n",
    "# print(final_df.isnull().sum())"
   ]
  },
  {
   "cell_type": "code",
   "execution_count": 97,
   "id": "4139dc85-e191-476a-adfb-4d74d6ea3ade",
   "metadata": {},
   "outputs": [],
   "source": [
    "# final_df.shape[0]"
   ]
  },
  {
   "cell_type": "code",
   "execution_count": 98,
   "id": "dabe72b4-dafa-4fa1-bea9-cab76abcd940",
   "metadata": {},
   "outputs": [],
   "source": [
    "# weather_df.dtypes"
   ]
  },
  {
   "cell_type": "code",
   "execution_count": 99,
   "id": "e49faaab-0977-454e-b2d3-b9da48785ea6",
   "metadata": {},
   "outputs": [],
   "source": [
    "# df.dtypes"
   ]
  }
 ],
 "metadata": {
  "kernelspec": {
   "display_name": "Python 3 (ipykernel)",
   "language": "python",
   "name": "python3"
  },
  "language_info": {
   "codemirror_mode": {
    "name": "ipython",
    "version": 3
   },
   "file_extension": ".py",
   "mimetype": "text/x-python",
   "name": "python",
   "nbconvert_exporter": "python",
   "pygments_lexer": "ipython3",
   "version": "3.12.7"
  }
 },
 "nbformat": 4,
 "nbformat_minor": 5
}
